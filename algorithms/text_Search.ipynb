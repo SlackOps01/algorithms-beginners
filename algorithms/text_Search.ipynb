{
 "cells": [
  {
   "cell_type": "code",
   "execution_count": 95,
   "id": "c6dbe7e2",
   "metadata": {},
   "outputs": [
    {
     "name": "stdout",
     "output_type": "stream",
     "text": [
      "5\n"
     ]
    }
   ],
   "source": [
    "from time import perf_counter\n",
    "alphabets = {\"a\": 1, \"b\":2, \"c\":3, \"d\":4, \"e\":5, \"f\":5}\n",
    "cards = [\"anthony\",\"bola\", \"cadence\", \"dosunmu\", \"esther\", \"fola\"]\n",
    "print(alphabets[str(cards[4])[0]])\n",
    "query = alphabets[str(cards[cards.index(\"cadence\")])[0]]\n",
    "cards.sort()"
   ]
  },
  {
   "cell_type": "code",
   "execution_count": 96,
   "id": "cee1693f",
   "metadata": {},
   "outputs": [],
   "source": [
    "def locate_card(cards, query: str):\n",
    "    Start = perf_counter()\n",
    "    lo, hi = 0, len(cards) - 1\n",
    "    while lo <= hi:\n",
    "        mid = (lo + hi) // 2\n",
    "        mid_no = cards[mid]\n",
    "        print(f\"mid = {mid}, low = {lo}, high = {hi}, mid_no = {mid_no}, query = {query}\")\n",
    "        if alphabets[mid_no[0]] == query:\n",
    "            print(f\"Found at position {mid}\")\n",
    "            break\n",
    "        elif alphabets[mid_no[0]] < query:\n",
    "            print(\"after the middle\")\n",
    "            lo = mid + 1\n",
    "        elif alphabets[mid_no[0]] > query:\n",
    "            print(\"before the middle\")\n",
    "            hi = mid - 1\n",
    "    Stop = perf_counter()\n",
    "    print(f'Time taken {Stop - Start}s')"
   ]
  },
  {
   "cell_type": "code",
   "execution_count": 97,
   "id": "6957d6fa",
   "metadata": {},
   "outputs": [
    {
     "name": "stdout",
     "output_type": "stream",
     "text": [
      "mid = 2, low = 0, high = 5, mid_no = cadence, query = 3\n",
      "Found at position 2\n",
      "Time taken 0.0001556999995955266s\n"
     ]
    }
   ],
   "source": [
    "locate_card(cards, query)"
   ]
  },
  {
   "cell_type": "code",
   "execution_count": null,
   "id": "4af1283a",
   "metadata": {},
   "outputs": [],
   "source": []
  },
  {
   "cell_type": "code",
   "execution_count": null,
   "id": "5351fb8a",
   "metadata": {},
   "outputs": [],
   "source": []
  },
  {
   "cell_type": "code",
   "execution_count": null,
   "id": "e73bad4f",
   "metadata": {},
   "outputs": [],
   "source": []
  }
 ],
 "metadata": {
  "kernelspec": {
   "display_name": "Python 3 (ipykernel)",
   "language": "python",
   "name": "python3"
  },
  "language_info": {
   "codemirror_mode": {
    "name": "ipython",
    "version": 3
   },
   "file_extension": ".py",
   "mimetype": "text/x-python",
   "name": "python",
   "nbconvert_exporter": "python",
   "pygments_lexer": "ipython3",
   "version": "3.9.12"
  }
 },
 "nbformat": 4,
 "nbformat_minor": 5
}
