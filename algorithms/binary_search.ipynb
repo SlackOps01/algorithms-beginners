{
 "cells": [
  {
   "cell_type": "code",
   "execution_count": 115,
   "id": "45b3b30b",
   "metadata": {},
   "outputs": [],
   "source": [
    "card = [1, 2, 3, 4, 5, 6, 7, 8]\n",
    "query = 8"
   ]
  },
  {
   "cell_type": "code",
   "execution_count": 116,
   "id": "e3c19096",
   "metadata": {},
   "outputs": [],
   "source": [
    "def locate_card(card, query):\n",
    "    lo, hi = 0, len(card) - 1\n",
    "    while lo <= hi:\n",
    "        mid = (lo + hi) // 2\n",
    "        mid_no = card[mid]\n",
    "        \n",
    "        print(f'lo: {lo}, hi: {hi}, mid: {mid} mid_no: {mid_no}')\n",
    "        if mid_no == query:\n",
    "            print(mid)\n",
    "            return\n",
    "        elif mid_no > query:\n",
    "            print(f\"greater than {mid_no}\")\n",
    "            hi = mid - 1\n",
    "        elif mid_no < query:\n",
    "            print(f'the number is below the middle')\n",
    "            lo = mid + 1\n",
    "    return -1"
   ]
  },
  {
   "cell_type": "code",
   "execution_count": 117,
   "id": "d554004a",
   "metadata": {
    "scrolled": false
   },
   "outputs": [
    {
     "name": "stdout",
     "output_type": "stream",
     "text": [
      "lo: 0, hi: 7, mid: 3 mid_no: 4\n",
      "the number is below the middle\n",
      "lo: 4, hi: 7, mid: 5 mid_no: 6\n",
      "the number is below the middle\n",
      "lo: 6, hi: 7, mid: 6 mid_no: 7\n",
      "the number is below the middle\n",
      "lo: 7, hi: 7, mid: 7 mid_no: 8\n",
      "7\n"
     ]
    }
   ],
   "source": [
    "locate_card(card, query)"
   ]
  },
  {
   "cell_type": "code",
   "execution_count": null,
   "id": "0bd64631",
   "metadata": {},
   "outputs": [],
   "source": [
    "def test_location(cards, query, mid):\n",
    "    mid_mumber = cards[mid]\n",
    "    print(f'Mid:', mid, \"mid_number:\", mid_number)\n",
    "    if mid_number == query:\n",
    "        if mid-1 >= 0 and cards[mid-1] == query:\n",
    "            return 'left'\n",
    "        else:\n",
    "            return 'found'\n",
    "        elif mid_no < query:\n",
    "            return 'right'"
   ]
  }
 ],
 "metadata": {
  "kernelspec": {
   "display_name": "Python 3 (ipykernel)",
   "language": "python",
   "name": "python3"
  },
  "language_info": {
   "codemirror_mode": {
    "name": "ipython",
    "version": 3
   },
   "file_extension": ".py",
   "mimetype": "text/x-python",
   "name": "python",
   "nbconvert_exporter": "python",
   "pygments_lexer": "ipython3",
   "version": "3.9.12"
  }
 },
 "nbformat": 4,
 "nbformat_minor": 5
}
