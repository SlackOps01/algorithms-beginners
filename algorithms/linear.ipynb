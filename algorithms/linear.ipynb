{
 "cells": [
  {
   "cell_type": "code",
   "execution_count": 1,
   "id": "f2a9c4ef",
   "metadata": {},
   "outputs": [
    {
     "name": "stdout",
     "output_type": "stream",
     "text": [
      "starting\n",
      "What number should i find: 5\n"
     ]
    }
   ],
   "source": [
    "cards = [7, 3, 5, 8, 2, 4, 9]\n",
    "print(\"starting\")\n",
    "query = int(input(\"What number should i find: \"))"
   ]
  },
  {
   "cell_type": "code",
   "execution_count": 2,
   "id": "cb5ffd25",
   "metadata": {},
   "outputs": [],
   "source": [
    "def locate_cards(cards, query):\n",
    "    position = 0\n",
    "    while True:\n",
    "\n",
    "        if cards[position] == query:\n",
    "            print(f'found at {position}')\n",
    "            return position\n",
    "\n",
    "        position += 1\n",
    "        if position == len(cards):\n",
    "            print(-1)\n",
    "            return -1"
   ]
  },
  {
   "cell_type": "code",
   "execution_count": 4,
   "id": "8c95d42f",
   "metadata": {},
   "outputs": [
    {
     "name": "stdout",
     "output_type": "stream",
     "text": [
      "found at 2\n"
     ]
    },
    {
     "data": {
      "text/plain": [
       "2"
      ]
     },
     "execution_count": 4,
     "metadata": {},
     "output_type": "execute_result"
    }
   ],
   "source": [
    "locate_cards(cards, query)"
   ]
  },
  {
   "cell_type": "code",
   "execution_count": null,
   "id": "c811ba13",
   "metadata": {},
   "outputs": [],
   "source": []
  }
 ],
 "metadata": {
  "kernelspec": {
   "display_name": "Python 3 (ipykernel)",
   "language": "python",
   "name": "python3"
  },
  "language_info": {
   "codemirror_mode": {
    "name": "ipython",
    "version": 3
   },
   "file_extension": ".py",
   "mimetype": "text/x-python",
   "name": "python",
   "nbconvert_exporter": "python",
   "pygments_lexer": "ipython3",
   "version": "3.9.12"
  }
 },
 "nbformat": 4,
 "nbformat_minor": 5
}
